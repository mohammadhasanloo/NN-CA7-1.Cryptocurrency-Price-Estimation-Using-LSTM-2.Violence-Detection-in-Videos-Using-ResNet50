{
  "nbformat": 4,
  "nbformat_minor": 0,
  "metadata": {
    "colab": {
      "provenance": []
    },
    "kernelspec": {
      "name": "python3",
      "display_name": "Python 3"
    },
    "language_info": {
      "name": "python"
    }
  },
  "cells": [
    {
      "cell_type": "code",
      "source": [
        "from google.colab import drive\n",
        "drive.mount('/content/drive')"
      ],
      "metadata": {
        "colab": {
          "base_uri": "https://localhost:8080/"
        },
        "id": "TCU-Y5GVwVIc",
        "outputId": "137ebc7c-594b-45ad-91f6-5eb534272af2"
      },
      "execution_count": 1,
      "outputs": [
        {
          "output_type": "stream",
          "name": "stdout",
          "text": [
            "Drive already mounted at /content/drive; to attempt to forcibly remount, call drive.mount(\"/content/drive\", force_remount=True).\n"
          ]
        }
      ]
    },
    {
      "cell_type": "code",
      "execution_count": 2,
      "metadata": {
        "id": "XZbcameTv58k"
      },
      "outputs": [],
      "source": [
        "import numpy as np\n",
        "import pandas as pd\n",
        "from matplotlib import pyplot as plt\n",
        "\n",
        "import tensorflow as tf\n",
        "from tensorflow import keras\n",
        "\n",
        "from sklearn.model_selection import train_test_split"
      ]
    },
    {
      "cell_type": "code",
      "source": [
        "class Normalizer():\n",
        "\n",
        "    def fit_trnsform(self, X):\n",
        "        self.min = X.min()\n",
        "        self.max = X.max()\n",
        "        self.vrange = (self.max - self.min)\n",
        "        return (X - self.min) / self.vrange\n",
        "    \n",
        "    def denormalize(self, X):\n",
        "        return (X * self.vrange) + self.min\n",
        "\n",
        "normalizer = Normalizer()"
      ],
      "metadata": {
        "id": "VUiEcOHC_YMs"
      },
      "execution_count": 3,
      "outputs": []
    },
    {
      "cell_type": "code",
      "source": [
        "def create_nn_dataset(data, w):\n",
        "    data = normalizer.fit_trnsform(data)\n",
        "\n",
        "    X = np.array([data[n: n+30] for n in range(data.shape[0]-29-w)])\n",
        "    y = np.array([data[n: n+w] for n in range(30, data.shape[0]-w+1)])\n",
        "\n",
        "    X_train, X_test, y_train, y_test = train_test_split(X[:-10], y[:-10], test_size=0.2)\n",
        "    X_test = np.append(X_test, X[-10:], axis=0)\n",
        "    y_test = np.append(y_test, y[-10:], axis=0)\n",
        "\n",
        "    return X_train, X_test, y_train, y_test"
      ],
      "metadata": {
        "id": "hZrAtfkX2yg9"
      },
      "execution_count": 4,
      "outputs": []
    },
    {
      "cell_type": "code",
      "source": [
        "df_litecoin = pd.read_csv('drive/MyDrive/NNDL/extra/Litecoin Historical Data.csv')\n",
        "df_litecoin.head(5)"
      ],
      "metadata": {
        "id": "lrKVC2hJwpOL",
        "colab": {
          "base_uri": "https://localhost:8080/",
          "height": 206
        },
        "outputId": "5ad1f512-2535-4bd0-8e33-acf84ca9589b"
      },
      "execution_count": 5,
      "outputs": [
        {
          "output_type": "execute_result",
          "data": {
            "text/plain": [
              "           Date  Price   Open   High    Low     Vol. Change %\n",
              "0  May 09, 2023  79.28  77.78  79.78  77.31  769.16K    1.93%\n",
              "1  May 08, 2023  77.78  83.44  85.17  75.86    1.09M   -6.78%\n",
              "2  May 07, 2023  83.44  83.25  84.66  82.98  405.45K    0.23%\n",
              "3  May 06, 2023  83.25  88.61  89.24  81.01  808.79K   -6.05%\n",
              "4  May 05, 2023  88.61  88.37  89.64  86.75  462.78K    0.27%"
            ],
            "text/html": [
              "\n",
              "  <div id=\"df-9bfcce95-dde1-40d7-a71d-65842a2aad06\">\n",
              "    <div class=\"colab-df-container\">\n",
              "      <div>\n",
              "<style scoped>\n",
              "    .dataframe tbody tr th:only-of-type {\n",
              "        vertical-align: middle;\n",
              "    }\n",
              "\n",
              "    .dataframe tbody tr th {\n",
              "        vertical-align: top;\n",
              "    }\n",
              "\n",
              "    .dataframe thead th {\n",
              "        text-align: right;\n",
              "    }\n",
              "</style>\n",
              "<table border=\"1\" class=\"dataframe\">\n",
              "  <thead>\n",
              "    <tr style=\"text-align: right;\">\n",
              "      <th></th>\n",
              "      <th>Date</th>\n",
              "      <th>Price</th>\n",
              "      <th>Open</th>\n",
              "      <th>High</th>\n",
              "      <th>Low</th>\n",
              "      <th>Vol.</th>\n",
              "      <th>Change %</th>\n",
              "    </tr>\n",
              "  </thead>\n",
              "  <tbody>\n",
              "    <tr>\n",
              "      <th>0</th>\n",
              "      <td>May 09, 2023</td>\n",
              "      <td>79.28</td>\n",
              "      <td>77.78</td>\n",
              "      <td>79.78</td>\n",
              "      <td>77.31</td>\n",
              "      <td>769.16K</td>\n",
              "      <td>1.93%</td>\n",
              "    </tr>\n",
              "    <tr>\n",
              "      <th>1</th>\n",
              "      <td>May 08, 2023</td>\n",
              "      <td>77.78</td>\n",
              "      <td>83.44</td>\n",
              "      <td>85.17</td>\n",
              "      <td>75.86</td>\n",
              "      <td>1.09M</td>\n",
              "      <td>-6.78%</td>\n",
              "    </tr>\n",
              "    <tr>\n",
              "      <th>2</th>\n",
              "      <td>May 07, 2023</td>\n",
              "      <td>83.44</td>\n",
              "      <td>83.25</td>\n",
              "      <td>84.66</td>\n",
              "      <td>82.98</td>\n",
              "      <td>405.45K</td>\n",
              "      <td>0.23%</td>\n",
              "    </tr>\n",
              "    <tr>\n",
              "      <th>3</th>\n",
              "      <td>May 06, 2023</td>\n",
              "      <td>83.25</td>\n",
              "      <td>88.61</td>\n",
              "      <td>89.24</td>\n",
              "      <td>81.01</td>\n",
              "      <td>808.79K</td>\n",
              "      <td>-6.05%</td>\n",
              "    </tr>\n",
              "    <tr>\n",
              "      <th>4</th>\n",
              "      <td>May 05, 2023</td>\n",
              "      <td>88.61</td>\n",
              "      <td>88.37</td>\n",
              "      <td>89.64</td>\n",
              "      <td>86.75</td>\n",
              "      <td>462.78K</td>\n",
              "      <td>0.27%</td>\n",
              "    </tr>\n",
              "  </tbody>\n",
              "</table>\n",
              "</div>\n",
              "      <button class=\"colab-df-convert\" onclick=\"convertToInteractive('df-9bfcce95-dde1-40d7-a71d-65842a2aad06')\"\n",
              "              title=\"Convert this dataframe to an interactive table.\"\n",
              "              style=\"display:none;\">\n",
              "        \n",
              "  <svg xmlns=\"http://www.w3.org/2000/svg\" height=\"24px\"viewBox=\"0 0 24 24\"\n",
              "       width=\"24px\">\n",
              "    <path d=\"M0 0h24v24H0V0z\" fill=\"none\"/>\n",
              "    <path d=\"M18.56 5.44l.94 2.06.94-2.06 2.06-.94-2.06-.94-.94-2.06-.94 2.06-2.06.94zm-11 1L8.5 8.5l.94-2.06 2.06-.94-2.06-.94L8.5 2.5l-.94 2.06-2.06.94zm10 10l.94 2.06.94-2.06 2.06-.94-2.06-.94-.94-2.06-.94 2.06-2.06.94z\"/><path d=\"M17.41 7.96l-1.37-1.37c-.4-.4-.92-.59-1.43-.59-.52 0-1.04.2-1.43.59L10.3 9.45l-7.72 7.72c-.78.78-.78 2.05 0 2.83L4 21.41c.39.39.9.59 1.41.59.51 0 1.02-.2 1.41-.59l7.78-7.78 2.81-2.81c.8-.78.8-2.07 0-2.86zM5.41 20L4 18.59l7.72-7.72 1.47 1.35L5.41 20z\"/>\n",
              "  </svg>\n",
              "      </button>\n",
              "      \n",
              "  <style>\n",
              "    .colab-df-container {\n",
              "      display:flex;\n",
              "      flex-wrap:wrap;\n",
              "      gap: 12px;\n",
              "    }\n",
              "\n",
              "    .colab-df-convert {\n",
              "      background-color: #E8F0FE;\n",
              "      border: none;\n",
              "      border-radius: 50%;\n",
              "      cursor: pointer;\n",
              "      display: none;\n",
              "      fill: #1967D2;\n",
              "      height: 32px;\n",
              "      padding: 0 0 0 0;\n",
              "      width: 32px;\n",
              "    }\n",
              "\n",
              "    .colab-df-convert:hover {\n",
              "      background-color: #E2EBFA;\n",
              "      box-shadow: 0px 1px 2px rgba(60, 64, 67, 0.3), 0px 1px 3px 1px rgba(60, 64, 67, 0.15);\n",
              "      fill: #174EA6;\n",
              "    }\n",
              "\n",
              "    [theme=dark] .colab-df-convert {\n",
              "      background-color: #3B4455;\n",
              "      fill: #D2E3FC;\n",
              "    }\n",
              "\n",
              "    [theme=dark] .colab-df-convert:hover {\n",
              "      background-color: #434B5C;\n",
              "      box-shadow: 0px 1px 3px 1px rgba(0, 0, 0, 0.15);\n",
              "      filter: drop-shadow(0px 1px 2px rgba(0, 0, 0, 0.3));\n",
              "      fill: #FFFFFF;\n",
              "    }\n",
              "  </style>\n",
              "\n",
              "      <script>\n",
              "        const buttonEl =\n",
              "          document.querySelector('#df-9bfcce95-dde1-40d7-a71d-65842a2aad06 button.colab-df-convert');\n",
              "        buttonEl.style.display =\n",
              "          google.colab.kernel.accessAllowed ? 'block' : 'none';\n",
              "\n",
              "        async function convertToInteractive(key) {\n",
              "          const element = document.querySelector('#df-9bfcce95-dde1-40d7-a71d-65842a2aad06');\n",
              "          const dataTable =\n",
              "            await google.colab.kernel.invokeFunction('convertToInteractive',\n",
              "                                                     [key], {});\n",
              "          if (!dataTable) return;\n",
              "\n",
              "          const docLinkHtml = 'Like what you see? Visit the ' +\n",
              "            '<a target=\"_blank\" href=https://colab.research.google.com/notebooks/data_table.ipynb>data table notebook</a>'\n",
              "            + ' to learn more about interactive tables.';\n",
              "          element.innerHTML = '';\n",
              "          dataTable['output_type'] = 'display_data';\n",
              "          await google.colab.output.renderOutput(dataTable, element);\n",
              "          const docLink = document.createElement('div');\n",
              "          docLink.innerHTML = docLinkHtml;\n",
              "          element.appendChild(docLink);\n",
              "        }\n",
              "      </script>\n",
              "    </div>\n",
              "  </div>\n",
              "  "
            ]
          },
          "metadata": {},
          "execution_count": 5
        }
      ]
    },
    {
      "cell_type": "code",
      "source": [
        "def preprocess_and_get_datasets(df):\n",
        "    vol_dict = {'K': '*1e3', 'M': '*1e6'}\n",
        "    df['Vol.'] = df['Vol.'].replace(vol_dict, regex=True).map(pd.eval)\n",
        "    X = df['Price'][::-1].to_numpy(dtype=np.float32)\n",
        "    return create_nn_dataset(X, 7)"
      ],
      "metadata": {
        "id": "qph31isCTWvv"
      },
      "execution_count": 6,
      "outputs": []
    },
    {
      "cell_type": "code",
      "source": [
        "X_train, X_test, y_train, y_test_7d = preprocess_and_get_datasets(df_litecoin)\n",
        "print(X_train.shape)\n",
        "print(y_train.shape)\n",
        "\n",
        "X_train.reshape((-1, 30, 1))\n",
        "X_test.reshape((-1, 30, 1))\n",
        "\n",
        "y_test_1d = y_test_7d[:, :1]\n",
        "y_test_3d = y_test_7d[:, :3]\n",
        "y_train = y_train[:, :1]"
      ],
      "metadata": {
        "id": "vm_K1q0ZeCth",
        "colab": {
          "base_uri": "https://localhost:8080/"
        },
        "outputId": "bee59d5a-127d-400e-b51f-4d4b03ea21c3"
      },
      "execution_count": 7,
      "outputs": [
        {
          "output_type": "stream",
          "name": "stdout",
          "text": [
            "(1819, 30)\n",
            "(1819, 7)\n"
          ]
        }
      ]
    },
    {
      "cell_type": "code",
      "source": [
        "def build_proposed_model():\n",
        "    # input layer\n",
        "    input_layer = keras.layers.Input(shape=(30, 1))\n",
        "\n",
        "    # LSTM block\n",
        "    x = keras.layers.LSTM(30, return_sequences=True)(input_layer)\n",
        "    x = keras.layers.Dropout(0.5)(x)\n",
        "    x = keras.layers.LSTM(50)(x)\n",
        "    lstm_output = keras.layers.Dense(10, activation=\"relu\")(x)\n",
        "\n",
        "    # GRU block\n",
        "    x = keras.layers.GRU(30)(input_layer)\n",
        "    x = keras.layers.Dropout(0.5)(x)\n",
        "    gru_output = keras.layers.Dense(10, activation=\"relu\")(x)\n",
        "\n",
        "    # output layer\n",
        "    x = keras.layers.Concatenate()([lstm_output, gru_output])\n",
        "    output = keras.layers.Dense(1, activation=\"relu\")(x)\n",
        "\n",
        "    model = keras.models.Model(inputs=input_layer, outputs=output)\n",
        "    return model\n",
        "\n",
        "proposed_model = build_proposed_model()\n",
        "proposed_model.summary()"
      ],
      "metadata": {
        "id": "dYkF2rYlYRz3",
        "colab": {
          "base_uri": "https://localhost:8080/"
        },
        "outputId": "bdb99a8a-0e9d-4f3f-c9d3-a7573bc98752"
      },
      "execution_count": 8,
      "outputs": [
        {
          "output_type": "stream",
          "name": "stdout",
          "text": [
            "Model: \"model\"\n",
            "__________________________________________________________________________________________________\n",
            " Layer (type)                   Output Shape         Param #     Connected to                     \n",
            "==================================================================================================\n",
            " input_1 (InputLayer)           [(None, 30, 1)]      0           []                               \n",
            "                                                                                                  \n",
            " lstm (LSTM)                    (None, 30, 30)       3840        ['input_1[0][0]']                \n",
            "                                                                                                  \n",
            " dropout (Dropout)              (None, 30, 30)       0           ['lstm[0][0]']                   \n",
            "                                                                                                  \n",
            " gru (GRU)                      (None, 30)           2970        ['input_1[0][0]']                \n",
            "                                                                                                  \n",
            " lstm_1 (LSTM)                  (None, 50)           16200       ['dropout[0][0]']                \n",
            "                                                                                                  \n",
            " dropout_1 (Dropout)            (None, 30)           0           ['gru[0][0]']                    \n",
            "                                                                                                  \n",
            " dense (Dense)                  (None, 10)           510         ['lstm_1[0][0]']                 \n",
            "                                                                                                  \n",
            " dense_1 (Dense)                (None, 10)           310         ['dropout_1[0][0]']              \n",
            "                                                                                                  \n",
            " concatenate (Concatenate)      (None, 20)           0           ['dense[0][0]',                  \n",
            "                                                                  'dense_1[0][0]']                \n",
            "                                                                                                  \n",
            " dense_2 (Dense)                (None, 1)            21          ['concatenate[0][0]']            \n",
            "                                                                                                  \n",
            "==================================================================================================\n",
            "Total params: 23,851\n",
            "Trainable params: 23,851\n",
            "Non-trainable params: 0\n",
            "__________________________________________________________________________________________________\n"
          ]
        }
      ]
    },
    {
      "cell_type": "code",
      "source": [
        "def build_comparison_model():\n",
        "    # input layer\n",
        "    input_layer = keras.layers.Input(shape=(30, 1))\n",
        "\n",
        "    # LSTM block\n",
        "    x = keras.layers.LSTM(50)(input_layer)\n",
        "    x = keras.layers.Dropout(0.5)(x)\n",
        "    output = keras.layers.Dense(1, activation=\"relu\")(x)\n",
        "\n",
        "    model = keras.models.Model(inputs=input_layer, outputs=output)\n",
        "    return model\n",
        "\n",
        "comparison_model = build_comparison_model()\n",
        "comparison_model.summary()"
      ],
      "metadata": {
        "colab": {
          "base_uri": "https://localhost:8080/"
        },
        "id": "Z4QSr-KYa1R5",
        "outputId": "d023185f-8283-49da-f56f-a6832c3366a7"
      },
      "execution_count": 9,
      "outputs": [
        {
          "output_type": "stream",
          "name": "stdout",
          "text": [
            "Model: \"model_1\"\n",
            "_________________________________________________________________\n",
            " Layer (type)                Output Shape              Param #   \n",
            "=================================================================\n",
            " input_2 (InputLayer)        [(None, 30, 1)]           0         \n",
            "                                                                 \n",
            " lstm_2 (LSTM)               (None, 50)                10400     \n",
            "                                                                 \n",
            " dropout_2 (Dropout)         (None, 50)                0         \n",
            "                                                                 \n",
            " dense_3 (Dense)             (None, 1)                 51        \n",
            "                                                                 \n",
            "=================================================================\n",
            "Total params: 10,451\n",
            "Trainable params: 10,451\n",
            "Non-trainable params: 0\n",
            "_________________________________________________________________\n"
          ]
        }
      ]
    },
    {
      "cell_type": "code",
      "source": [
        "def compile_and_train_model(model, lr=0.005, batch_size=32, epochs=100):\n",
        "\n",
        "    # learning rate scheduler\n",
        "    steps_per_epoch = np.ceil(X_train.shape[0] / batch_size).astype(int)\n",
        "    lr_schedule = keras.optimizers.schedules.ExponentialDecay(lr,\n",
        "        decay_steps=steps_per_epoch, decay_rate=0.75, staircase=True)\n",
        "\n",
        "    # loss function and optimizer\n",
        "    mse = keras.losses.MeanSquaredError()\n",
        "    adam = keras.optimizers.Adam(learning_rate=lr_schedule)\n",
        "\n",
        "    # compile model\n",
        "    model.compile(optimizer=adam, loss=mse, metrics=['mse', 'mae'])\n",
        "\n",
        "    # train model\n",
        "    history = model.fit (\n",
        "        X_train, y_train, \n",
        "        batch_size=batch_size, epochs=epochs)\n",
        "\n",
        "    return history"
      ],
      "metadata": {
        "id": "TbdcgIMNdIek"
      },
      "execution_count": 10,
      "outputs": []
    },
    {
      "cell_type": "code",
      "source": [
        "history_1 = compile_and_train_model(proposed_model)"
      ],
      "metadata": {
        "colab": {
          "base_uri": "https://localhost:8080/"
        },
        "id": "Rc3piVOklX1C",
        "outputId": "8583f426-e97d-4755-9a8c-a3be3be650c4"
      },
      "execution_count": 11,
      "outputs": [
        {
          "output_type": "stream",
          "name": "stdout",
          "text": [
            "Epoch 1/100\n",
            "57/57 [==============================] - 14s 32ms/step - loss: 0.0045 - mse: 0.0045 - mae: 0.0431\n",
            "Epoch 2/100\n",
            "57/57 [==============================] - 3s 56ms/step - loss: 0.0016 - mse: 0.0016 - mae: 0.0243\n",
            "Epoch 3/100\n",
            "57/57 [==============================] - 3s 60ms/step - loss: 0.0013 - mse: 0.0013 - mae: 0.0219\n",
            "Epoch 4/100\n",
            "57/57 [==============================] - 3s 45ms/step - loss: 0.0011 - mse: 0.0011 - mae: 0.0197\n",
            "Epoch 5/100\n",
            "57/57 [==============================] - 2s 30ms/step - loss: 0.0011 - mse: 0.0011 - mae: 0.0190\n",
            "Epoch 6/100\n",
            "57/57 [==============================] - 2s 31ms/step - loss: 9.4246e-04 - mse: 9.4246e-04 - mae: 0.0188\n",
            "Epoch 7/100\n",
            "57/57 [==============================] - 2s 35ms/step - loss: 8.8984e-04 - mse: 8.8984e-04 - mae: 0.0185\n",
            "Epoch 8/100\n",
            "57/57 [==============================] - 2s 30ms/step - loss: 8.7581e-04 - mse: 8.7581e-04 - mae: 0.0179\n",
            "Epoch 9/100\n",
            "57/57 [==============================] - 2s 30ms/step - loss: 8.5609e-04 - mse: 8.5609e-04 - mae: 0.0173\n",
            "Epoch 10/100\n",
            "57/57 [==============================] - 3s 55ms/step - loss: 8.5993e-04 - mse: 8.5993e-04 - mae: 0.0170\n",
            "Epoch 11/100\n",
            "57/57 [==============================] - 2s 39ms/step - loss: 8.6694e-04 - mse: 8.6694e-04 - mae: 0.0171\n",
            "Epoch 12/100\n",
            "57/57 [==============================] - 2s 31ms/step - loss: 8.1536e-04 - mse: 8.1536e-04 - mae: 0.0165\n",
            "Epoch 13/100\n",
            "57/57 [==============================] - 2s 30ms/step - loss: 8.8905e-04 - mse: 8.8905e-04 - mae: 0.0167\n",
            "Epoch 14/100\n",
            "57/57 [==============================] - 2s 29ms/step - loss: 7.9977e-04 - mse: 7.9977e-04 - mae: 0.0162\n",
            "Epoch 15/100\n",
            "57/57 [==============================] - 2s 29ms/step - loss: 8.0901e-04 - mse: 8.0901e-04 - mae: 0.0165\n",
            "Epoch 16/100\n",
            "57/57 [==============================] - 2s 33ms/step - loss: 8.6501e-04 - mse: 8.6501e-04 - mae: 0.0166\n",
            "Epoch 17/100\n",
            "57/57 [==============================] - 3s 57ms/step - loss: 7.8376e-04 - mse: 7.8376e-04 - mae: 0.0163\n",
            "Epoch 18/100\n",
            "57/57 [==============================] - 2s 37ms/step - loss: 8.1401e-04 - mse: 8.1401e-04 - mae: 0.0162\n",
            "Epoch 19/100\n",
            "57/57 [==============================] - 2s 29ms/step - loss: 8.1016e-04 - mse: 8.1016e-04 - mae: 0.0161\n",
            "Epoch 20/100\n",
            "57/57 [==============================] - 2s 29ms/step - loss: 8.1585e-04 - mse: 8.1585e-04 - mae: 0.0163\n",
            "Epoch 21/100\n",
            "57/57 [==============================] - 2s 31ms/step - loss: 7.5976e-04 - mse: 7.5976e-04 - mae: 0.0163\n",
            "Epoch 22/100\n",
            "57/57 [==============================] - 2s 33ms/step - loss: 8.1000e-04 - mse: 8.1000e-04 - mae: 0.0164\n",
            "Epoch 23/100\n",
            "57/57 [==============================] - 2s 29ms/step - loss: 8.0474e-04 - mse: 8.0474e-04 - mae: 0.0160\n",
            "Epoch 24/100\n",
            "57/57 [==============================] - 3s 54ms/step - loss: 9.2267e-04 - mse: 9.2267e-04 - mae: 0.0170\n",
            "Epoch 25/100\n",
            "57/57 [==============================] - 2s 43ms/step - loss: 7.8302e-04 - mse: 7.8302e-04 - mae: 0.0161\n",
            "Epoch 26/100\n",
            "57/57 [==============================] - 2s 30ms/step - loss: 8.5032e-04 - mse: 8.5032e-04 - mae: 0.0167\n",
            "Epoch 27/100\n",
            "57/57 [==============================] - 2s 32ms/step - loss: 8.0001e-04 - mse: 8.0001e-04 - mae: 0.0161\n",
            "Epoch 28/100\n",
            "57/57 [==============================] - 2s 31ms/step - loss: 7.8335e-04 - mse: 7.8335e-04 - mae: 0.0160\n",
            "Epoch 29/100\n",
            "57/57 [==============================] - 2s 30ms/step - loss: 7.9841e-04 - mse: 7.9841e-04 - mae: 0.0162\n",
            "Epoch 30/100\n",
            "57/57 [==============================] - 2s 30ms/step - loss: 8.1580e-04 - mse: 8.1580e-04 - mae: 0.0163\n",
            "Epoch 31/100\n",
            "57/57 [==============================] - 3s 58ms/step - loss: 7.5766e-04 - mse: 7.5766e-04 - mae: 0.0159\n",
            "Epoch 32/100\n",
            "57/57 [==============================] - 2s 36ms/step - loss: 8.3439e-04 - mse: 8.3439e-04 - mae: 0.0164\n",
            "Epoch 33/100\n",
            "57/57 [==============================] - 2s 31ms/step - loss: 7.4541e-04 - mse: 7.4541e-04 - mae: 0.0157\n",
            "Epoch 34/100\n",
            "57/57 [==============================] - 2s 30ms/step - loss: 7.6315e-04 - mse: 7.6315e-04 - mae: 0.0161\n",
            "Epoch 35/100\n",
            "57/57 [==============================] - 2s 32ms/step - loss: 7.7306e-04 - mse: 7.7306e-04 - mae: 0.0160\n",
            "Epoch 36/100\n",
            "57/57 [==============================] - 2s 31ms/step - loss: 7.8687e-04 - mse: 7.8687e-04 - mae: 0.0163\n",
            "Epoch 37/100\n",
            "57/57 [==============================] - 2s 34ms/step - loss: 7.9495e-04 - mse: 7.9495e-04 - mae: 0.0163\n",
            "Epoch 38/100\n",
            "57/57 [==============================] - 3s 59ms/step - loss: 8.8753e-04 - mse: 8.8753e-04 - mae: 0.0165\n",
            "Epoch 39/100\n",
            "57/57 [==============================] - 2s 33ms/step - loss: 8.1216e-04 - mse: 8.1216e-04 - mae: 0.0162\n",
            "Epoch 40/100\n",
            "57/57 [==============================] - 2s 35ms/step - loss: 7.9105e-04 - mse: 7.9105e-04 - mae: 0.0159\n",
            "Epoch 41/100\n",
            "57/57 [==============================] - 2s 32ms/step - loss: 8.0434e-04 - mse: 8.0434e-04 - mae: 0.0162\n",
            "Epoch 42/100\n",
            "57/57 [==============================] - 2s 30ms/step - loss: 8.3275e-04 - mse: 8.3275e-04 - mae: 0.0163\n",
            "Epoch 43/100\n",
            "57/57 [==============================] - 2s 32ms/step - loss: 7.9517e-04 - mse: 7.9517e-04 - mae: 0.0165\n",
            "Epoch 44/100\n",
            "57/57 [==============================] - 2s 43ms/step - loss: 7.7474e-04 - mse: 7.7474e-04 - mae: 0.0162\n",
            "Epoch 45/100\n",
            "57/57 [==============================] - 3s 51ms/step - loss: 7.7909e-04 - mse: 7.7909e-04 - mae: 0.0159\n",
            "Epoch 46/100\n",
            "57/57 [==============================] - 2s 32ms/step - loss: 8.4957e-04 - mse: 8.4957e-04 - mae: 0.0167\n",
            "Epoch 47/100\n",
            "57/57 [==============================] - 2s 31ms/step - loss: 8.1854e-04 - mse: 8.1854e-04 - mae: 0.0160\n",
            "Epoch 48/100\n",
            "57/57 [==============================] - 2s 30ms/step - loss: 8.3557e-04 - mse: 8.3557e-04 - mae: 0.0169\n",
            "Epoch 49/100\n",
            "57/57 [==============================] - 2s 30ms/step - loss: 8.6825e-04 - mse: 8.6825e-04 - mae: 0.0167\n",
            "Epoch 50/100\n",
            "57/57 [==============================] - 2s 29ms/step - loss: 8.5734e-04 - mse: 8.5734e-04 - mae: 0.0160\n",
            "Epoch 51/100\n",
            "57/57 [==============================] - 3s 55ms/step - loss: 8.6309e-04 - mse: 8.6309e-04 - mae: 0.0162\n",
            "Epoch 52/100\n",
            "57/57 [==============================] - 3s 46ms/step - loss: 7.4634e-04 - mse: 7.4634e-04 - mae: 0.0159\n",
            "Epoch 53/100\n",
            "57/57 [==============================] - 2s 30ms/step - loss: 8.0001e-04 - mse: 8.0001e-04 - mae: 0.0163\n",
            "Epoch 54/100\n",
            "57/57 [==============================] - 2s 30ms/step - loss: 7.6409e-04 - mse: 7.6409e-04 - mae: 0.0159\n",
            "Epoch 55/100\n",
            "57/57 [==============================] - 2s 33ms/step - loss: 6.9857e-04 - mse: 6.9857e-04 - mae: 0.0158\n",
            "Epoch 56/100\n",
            "57/57 [==============================] - 2s 30ms/step - loss: 8.3529e-04 - mse: 8.3529e-04 - mae: 0.0167\n",
            "Epoch 57/100\n",
            "57/57 [==============================] - 2s 30ms/step - loss: 7.2254e-04 - mse: 7.2254e-04 - mae: 0.0155\n",
            "Epoch 58/100\n",
            "57/57 [==============================] - 3s 46ms/step - loss: 8.4708e-04 - mse: 8.4708e-04 - mae: 0.0166\n",
            "Epoch 59/100\n",
            "57/57 [==============================] - 3s 49ms/step - loss: 8.2576e-04 - mse: 8.2576e-04 - mae: 0.0160\n",
            "Epoch 60/100\n",
            "57/57 [==============================] - 2s 33ms/step - loss: 8.4269e-04 - mse: 8.4269e-04 - mae: 0.0162\n",
            "Epoch 61/100\n",
            "57/57 [==============================] - 2s 32ms/step - loss: 7.5586e-04 - mse: 7.5586e-04 - mae: 0.0158\n",
            "Epoch 62/100\n",
            "57/57 [==============================] - 2s 31ms/step - loss: 7.6215e-04 - mse: 7.6215e-04 - mae: 0.0158\n",
            "Epoch 63/100\n",
            "57/57 [==============================] - 2s 32ms/step - loss: 8.1119e-04 - mse: 8.1119e-04 - mae: 0.0163\n",
            "Epoch 64/100\n",
            "57/57 [==============================] - 2s 33ms/step - loss: 7.2949e-04 - mse: 7.2949e-04 - mae: 0.0160\n",
            "Epoch 65/100\n",
            "57/57 [==============================] - 3s 57ms/step - loss: 7.2811e-04 - mse: 7.2811e-04 - mae: 0.0162\n",
            "Epoch 66/100\n",
            "57/57 [==============================] - 2s 38ms/step - loss: 8.0927e-04 - mse: 8.0927e-04 - mae: 0.0163\n",
            "Epoch 67/100\n",
            "57/57 [==============================] - 2s 33ms/step - loss: 7.6893e-04 - mse: 7.6893e-04 - mae: 0.0161\n",
            "Epoch 68/100\n",
            "57/57 [==============================] - 2s 32ms/step - loss: 7.4123e-04 - mse: 7.4123e-04 - mae: 0.0161\n",
            "Epoch 69/100\n",
            "57/57 [==============================] - 2s 34ms/step - loss: 7.5961e-04 - mse: 7.5961e-04 - mae: 0.0161\n",
            "Epoch 70/100\n",
            "57/57 [==============================] - 2s 31ms/step - loss: 7.7809e-04 - mse: 7.7809e-04 - mae: 0.0156\n",
            "Epoch 71/100\n",
            "57/57 [==============================] - 2s 40ms/step - loss: 8.0278e-04 - mse: 8.0278e-04 - mae: 0.0161\n",
            "Epoch 72/100\n",
            "57/57 [==============================] - 3s 56ms/step - loss: 7.7535e-04 - mse: 7.7535e-04 - mae: 0.0162\n",
            "Epoch 73/100\n",
            "57/57 [==============================] - 2s 32ms/step - loss: 7.5413e-04 - mse: 7.5413e-04 - mae: 0.0158\n",
            "Epoch 74/100\n",
            "57/57 [==============================] - 2s 30ms/step - loss: 7.8090e-04 - mse: 7.8090e-04 - mae: 0.0161\n",
            "Epoch 75/100\n",
            "57/57 [==============================] - 2s 31ms/step - loss: 7.9274e-04 - mse: 7.9274e-04 - mae: 0.0165\n",
            "Epoch 76/100\n",
            "57/57 [==============================] - 2s 31ms/step - loss: 7.6679e-04 - mse: 7.6679e-04 - mae: 0.0161\n",
            "Epoch 77/100\n",
            "57/57 [==============================] - 2s 29ms/step - loss: 7.7199e-04 - mse: 7.7199e-04 - mae: 0.0160\n",
            "Epoch 78/100\n",
            "57/57 [==============================] - 2s 36ms/step - loss: 7.7338e-04 - mse: 7.7338e-04 - mae: 0.0161\n",
            "Epoch 79/100\n",
            "57/57 [==============================] - 3s 57ms/step - loss: 7.6697e-04 - mse: 7.6697e-04 - mae: 0.0162\n",
            "Epoch 80/100\n",
            "57/57 [==============================] - 2s 30ms/step - loss: 7.5578e-04 - mse: 7.5578e-04 - mae: 0.0161\n",
            "Epoch 81/100\n",
            "57/57 [==============================] - 2s 30ms/step - loss: 7.2027e-04 - mse: 7.2027e-04 - mae: 0.0157\n",
            "Epoch 82/100\n",
            "57/57 [==============================] - 2s 32ms/step - loss: 8.1800e-04 - mse: 8.1800e-04 - mae: 0.0163\n",
            "Epoch 83/100\n",
            "57/57 [==============================] - 2s 33ms/step - loss: 8.4465e-04 - mse: 8.4465e-04 - mae: 0.0167\n",
            "Epoch 84/100\n",
            "57/57 [==============================] - 2s 35ms/step - loss: 8.0589e-04 - mse: 8.0589e-04 - mae: 0.0162\n",
            "Epoch 85/100\n",
            "57/57 [==============================] - 3s 47ms/step - loss: 8.3385e-04 - mse: 8.3385e-04 - mae: 0.0167\n",
            "Epoch 86/100\n",
            "57/57 [==============================] - 3s 49ms/step - loss: 7.7675e-04 - mse: 7.7675e-04 - mae: 0.0160\n",
            "Epoch 87/100\n",
            "57/57 [==============================] - 2s 29ms/step - loss: 7.7804e-04 - mse: 7.7804e-04 - mae: 0.0160\n",
            "Epoch 88/100\n",
            "57/57 [==============================] - 2s 29ms/step - loss: 7.9851e-04 - mse: 7.9851e-04 - mae: 0.0163\n",
            "Epoch 89/100\n",
            "57/57 [==============================] - 2s 30ms/step - loss: 8.1757e-04 - mse: 8.1757e-04 - mae: 0.0165\n",
            "Epoch 90/100\n",
            "57/57 [==============================] - 2s 32ms/step - loss: 7.7327e-04 - mse: 7.7327e-04 - mae: 0.0159\n",
            "Epoch 91/100\n",
            "57/57 [==============================] - 2s 29ms/step - loss: 7.4016e-04 - mse: 7.4016e-04 - mae: 0.0159\n",
            "Epoch 92/100\n",
            "57/57 [==============================] - 2s 42ms/step - loss: 7.6579e-04 - mse: 7.6579e-04 - mae: 0.0160\n",
            "Epoch 93/100\n",
            "57/57 [==============================] - 3s 51ms/step - loss: 8.2158e-04 - mse: 8.2158e-04 - mae: 0.0167\n",
            "Epoch 94/100\n",
            "57/57 [==============================] - 2s 30ms/step - loss: 7.4887e-04 - mse: 7.4887e-04 - mae: 0.0157\n",
            "Epoch 95/100\n",
            "57/57 [==============================] - 2s 30ms/step - loss: 7.9525e-04 - mse: 7.9525e-04 - mae: 0.0165\n",
            "Epoch 96/100\n",
            "57/57 [==============================] - 2s 31ms/step - loss: 8.1524e-04 - mse: 8.1524e-04 - mae: 0.0164\n",
            "Epoch 97/100\n",
            "57/57 [==============================] - 2s 31ms/step - loss: 7.9479e-04 - mse: 7.9479e-04 - mae: 0.0162\n",
            "Epoch 98/100\n",
            "57/57 [==============================] - 2s 30ms/step - loss: 7.4995e-04 - mse: 7.4995e-04 - mae: 0.0157\n",
            "Epoch 99/100\n",
            "57/57 [==============================] - 2s 43ms/step - loss: 7.6942e-04 - mse: 7.6942e-04 - mae: 0.0161\n",
            "Epoch 100/100\n",
            "57/57 [==============================] - 3s 51ms/step - loss: 7.3951e-04 - mse: 7.3951e-04 - mae: 0.0159\n"
          ]
        }
      ]
    },
    {
      "cell_type": "code",
      "source": [
        "history_2 = compile_and_train_model(comparison_model)"
      ],
      "metadata": {
        "colab": {
          "base_uri": "https://localhost:8080/"
        },
        "id": "v9bsTbjdM2qx",
        "outputId": "de73cc53-475b-4b53-85ab-2a29475f27da"
      },
      "execution_count": 12,
      "outputs": [
        {
          "output_type": "stream",
          "name": "stdout",
          "text": [
            "Epoch 1/100\n",
            "57/57 [==============================] - 3s 13ms/step - loss: 0.0076 - mse: 0.0076 - mae: 0.0557\n",
            "Epoch 2/100\n",
            "57/57 [==============================] - 1s 11ms/step - loss: 0.0026 - mse: 0.0026 - mae: 0.0319\n",
            "Epoch 3/100\n",
            "57/57 [==============================] - 1s 18ms/step - loss: 0.0022 - mse: 0.0022 - mae: 0.0289\n",
            "Epoch 4/100\n",
            "57/57 [==============================] - 1s 18ms/step - loss: 0.0020 - mse: 0.0020 - mae: 0.0264\n",
            "Epoch 5/100\n",
            "57/57 [==============================] - 1s 12ms/step - loss: 0.0019 - mse: 0.0019 - mae: 0.0253\n",
            "Epoch 6/100\n",
            "57/57 [==============================] - 1s 12ms/step - loss: 0.0016 - mse: 0.0016 - mae: 0.0235\n",
            "Epoch 7/100\n",
            "57/57 [==============================] - 1s 12ms/step - loss: 0.0018 - mse: 0.0018 - mae: 0.0239\n",
            "Epoch 8/100\n",
            "57/57 [==============================] - 1s 12ms/step - loss: 0.0015 - mse: 0.0015 - mae: 0.0225\n",
            "Epoch 9/100\n",
            "57/57 [==============================] - 1s 13ms/step - loss: 0.0018 - mse: 0.0018 - mae: 0.0234\n",
            "Epoch 10/100\n",
            "57/57 [==============================] - 1s 16ms/step - loss: 0.0016 - mse: 0.0016 - mae: 0.0231\n",
            "Epoch 11/100\n",
            "57/57 [==============================] - 1s 21ms/step - loss: 0.0015 - mse: 0.0015 - mae: 0.0219\n",
            "Epoch 12/100\n",
            "57/57 [==============================] - 1s 23ms/step - loss: 0.0016 - mse: 0.0016 - mae: 0.0226\n",
            "Epoch 13/100\n",
            "57/57 [==============================] - 1s 19ms/step - loss: 0.0015 - mse: 0.0015 - mae: 0.0222\n",
            "Epoch 14/100\n",
            "57/57 [==============================] - 1s 12ms/step - loss: 0.0014 - mse: 0.0014 - mae: 0.0213\n",
            "Epoch 15/100\n",
            "57/57 [==============================] - 1s 12ms/step - loss: 0.0015 - mse: 0.0015 - mae: 0.0217\n",
            "Epoch 16/100\n",
            "57/57 [==============================] - 1s 12ms/step - loss: 0.0013 - mse: 0.0013 - mae: 0.0213\n",
            "Epoch 17/100\n",
            "57/57 [==============================] - 1s 13ms/step - loss: 0.0015 - mse: 0.0015 - mae: 0.0216\n",
            "Epoch 18/100\n",
            "57/57 [==============================] - 1s 13ms/step - loss: 0.0014 - mse: 0.0014 - mae: 0.0215\n",
            "Epoch 19/100\n",
            "57/57 [==============================] - 1s 13ms/step - loss: 0.0015 - mse: 0.0015 - mae: 0.0216\n",
            "Epoch 20/100\n",
            "57/57 [==============================] - 1s 13ms/step - loss: 0.0013 - mse: 0.0013 - mae: 0.0210\n",
            "Epoch 21/100\n",
            "57/57 [==============================] - 1s 12ms/step - loss: 0.0013 - mse: 0.0013 - mae: 0.0212\n",
            "Epoch 22/100\n",
            "57/57 [==============================] - 1s 12ms/step - loss: 0.0014 - mse: 0.0014 - mae: 0.0217\n",
            "Epoch 23/100\n",
            "57/57 [==============================] - 1s 15ms/step - loss: 0.0014 - mse: 0.0014 - mae: 0.0219\n",
            "Epoch 24/100\n",
            "57/57 [==============================] - 1s 12ms/step - loss: 0.0014 - mse: 0.0014 - mae: 0.0214\n",
            "Epoch 25/100\n",
            "57/57 [==============================] - 1s 12ms/step - loss: 0.0014 - mse: 0.0014 - mae: 0.0214\n",
            "Epoch 26/100\n",
            "57/57 [==============================] - 1s 13ms/step - loss: 0.0014 - mse: 0.0014 - mae: 0.0218\n",
            "Epoch 27/100\n",
            "57/57 [==============================] - 1s 15ms/step - loss: 0.0015 - mse: 0.0015 - mae: 0.0212\n",
            "Epoch 28/100\n",
            "57/57 [==============================] - 1s 20ms/step - loss: 0.0016 - mse: 0.0016 - mae: 0.0217\n",
            "Epoch 29/100\n",
            "57/57 [==============================] - 1s 20ms/step - loss: 0.0014 - mse: 0.0014 - mae: 0.0214\n",
            "Epoch 30/100\n",
            "57/57 [==============================] - 1s 20ms/step - loss: 0.0016 - mse: 0.0016 - mae: 0.0219\n",
            "Epoch 31/100\n",
            "57/57 [==============================] - 1s 14ms/step - loss: 0.0014 - mse: 0.0014 - mae: 0.0212\n",
            "Epoch 32/100\n",
            "57/57 [==============================] - 1s 12ms/step - loss: 0.0015 - mse: 0.0015 - mae: 0.0219\n",
            "Epoch 33/100\n",
            "57/57 [==============================] - 1s 11ms/step - loss: 0.0013 - mse: 0.0013 - mae: 0.0211\n",
            "Epoch 34/100\n",
            "57/57 [==============================] - 1s 13ms/step - loss: 0.0014 - mse: 0.0014 - mae: 0.0211\n",
            "Epoch 35/100\n",
            "57/57 [==============================] - 1s 12ms/step - loss: 0.0014 - mse: 0.0014 - mae: 0.0210\n",
            "Epoch 36/100\n",
            "57/57 [==============================] - 1s 13ms/step - loss: 0.0014 - mse: 0.0014 - mae: 0.0214\n",
            "Epoch 37/100\n",
            "57/57 [==============================] - 1s 12ms/step - loss: 0.0013 - mse: 0.0013 - mae: 0.0212\n",
            "Epoch 38/100\n",
            "57/57 [==============================] - 1s 13ms/step - loss: 0.0013 - mse: 0.0013 - mae: 0.0214\n",
            "Epoch 39/100\n",
            "57/57 [==============================] - 1s 12ms/step - loss: 0.0015 - mse: 0.0015 - mae: 0.0219\n",
            "Epoch 40/100\n",
            "57/57 [==============================] - 1s 12ms/step - loss: 0.0013 - mse: 0.0013 - mae: 0.0211\n",
            "Epoch 41/100\n",
            "57/57 [==============================] - 1s 13ms/step - loss: 0.0014 - mse: 0.0014 - mae: 0.0212\n",
            "Epoch 42/100\n",
            "57/57 [==============================] - 1s 12ms/step - loss: 0.0014 - mse: 0.0014 - mae: 0.0214\n",
            "Epoch 43/100\n",
            "57/57 [==============================] - 1s 11ms/step - loss: 0.0015 - mse: 0.0015 - mae: 0.0221\n",
            "Epoch 44/100\n",
            "57/57 [==============================] - 1s 13ms/step - loss: 0.0015 - mse: 0.0015 - mae: 0.0218\n",
            "Epoch 45/100\n",
            "57/57 [==============================] - 1s 16ms/step - loss: 0.0014 - mse: 0.0014 - mae: 0.0216\n",
            "Epoch 46/100\n",
            "57/57 [==============================] - 1s 21ms/step - loss: 0.0014 - mse: 0.0014 - mae: 0.0213\n",
            "Epoch 47/100\n",
            "57/57 [==============================] - 1s 20ms/step - loss: 0.0015 - mse: 0.0015 - mae: 0.0214\n",
            "Epoch 48/100\n",
            "57/57 [==============================] - 1s 20ms/step - loss: 0.0013 - mse: 0.0013 - mae: 0.0212\n",
            "Epoch 49/100\n",
            "57/57 [==============================] - 1s 11ms/step - loss: 0.0014 - mse: 0.0014 - mae: 0.0214\n",
            "Epoch 50/100\n",
            "57/57 [==============================] - 1s 12ms/step - loss: 0.0013 - mse: 0.0013 - mae: 0.0213\n",
            "Epoch 51/100\n",
            "57/57 [==============================] - 1s 12ms/step - loss: 0.0014 - mse: 0.0014 - mae: 0.0217\n",
            "Epoch 52/100\n",
            "57/57 [==============================] - 1s 12ms/step - loss: 0.0014 - mse: 0.0014 - mae: 0.0212\n",
            "Epoch 53/100\n",
            "57/57 [==============================] - 1s 12ms/step - loss: 0.0014 - mse: 0.0014 - mae: 0.0208\n",
            "Epoch 54/100\n",
            "57/57 [==============================] - 1s 11ms/step - loss: 0.0015 - mse: 0.0015 - mae: 0.0223\n",
            "Epoch 55/100\n",
            "57/57 [==============================] - 1s 12ms/step - loss: 0.0013 - mse: 0.0013 - mae: 0.0209\n",
            "Epoch 56/100\n",
            "57/57 [==============================] - 1s 14ms/step - loss: 0.0015 - mse: 0.0015 - mae: 0.0215\n",
            "Epoch 57/100\n",
            "57/57 [==============================] - 1s 14ms/step - loss: 0.0012 - mse: 0.0012 - mae: 0.0208\n",
            "Epoch 58/100\n",
            "57/57 [==============================] - 1s 12ms/step - loss: 0.0014 - mse: 0.0014 - mae: 0.0213\n",
            "Epoch 59/100\n",
            "57/57 [==============================] - 1s 13ms/step - loss: 0.0014 - mse: 0.0014 - mae: 0.0210\n",
            "Epoch 60/100\n",
            "57/57 [==============================] - 1s 14ms/step - loss: 0.0015 - mse: 0.0015 - mae: 0.0216\n",
            "Epoch 61/100\n",
            "57/57 [==============================] - 1s 12ms/step - loss: 0.0015 - mse: 0.0015 - mae: 0.0215\n",
            "Epoch 62/100\n",
            "57/57 [==============================] - 1s 12ms/step - loss: 0.0014 - mse: 0.0014 - mae: 0.0217\n",
            "Epoch 63/100\n",
            "57/57 [==============================] - 1s 20ms/step - loss: 0.0014 - mse: 0.0014 - mae: 0.0215\n",
            "Epoch 64/100\n",
            "57/57 [==============================] - 1s 21ms/step - loss: 0.0014 - mse: 0.0014 - mae: 0.0210\n",
            "Epoch 65/100\n",
            "57/57 [==============================] - 1s 19ms/step - loss: 0.0015 - mse: 0.0015 - mae: 0.0219\n",
            "Epoch 66/100\n",
            "57/57 [==============================] - 1s 17ms/step - loss: 0.0015 - mse: 0.0015 - mae: 0.0215\n",
            "Epoch 67/100\n",
            "57/57 [==============================] - 1s 12ms/step - loss: 0.0015 - mse: 0.0015 - mae: 0.0216\n",
            "Epoch 68/100\n",
            "57/57 [==============================] - 1s 13ms/step - loss: 0.0014 - mse: 0.0014 - mae: 0.0208\n",
            "Epoch 69/100\n",
            "57/57 [==============================] - 1s 12ms/step - loss: 0.0014 - mse: 0.0014 - mae: 0.0211\n",
            "Epoch 70/100\n",
            "57/57 [==============================] - 1s 13ms/step - loss: 0.0014 - mse: 0.0014 - mae: 0.0217\n",
            "Epoch 71/100\n",
            "57/57 [==============================] - 1s 12ms/step - loss: 0.0015 - mse: 0.0015 - mae: 0.0219\n",
            "Epoch 72/100\n",
            "57/57 [==============================] - 1s 12ms/step - loss: 0.0014 - mse: 0.0014 - mae: 0.0213\n",
            "Epoch 73/100\n",
            "57/57 [==============================] - 1s 12ms/step - loss: 0.0013 - mse: 0.0013 - mae: 0.0210\n",
            "Epoch 74/100\n",
            "57/57 [==============================] - 1s 12ms/step - loss: 0.0015 - mse: 0.0015 - mae: 0.0218\n",
            "Epoch 75/100\n",
            "57/57 [==============================] - 1s 12ms/step - loss: 0.0015 - mse: 0.0015 - mae: 0.0217\n",
            "Epoch 76/100\n",
            "57/57 [==============================] - 1s 22ms/step - loss: 0.0016 - mse: 0.0016 - mae: 0.0217\n",
            "Epoch 77/100\n",
            "57/57 [==============================] - 1s 20ms/step - loss: 0.0015 - mse: 0.0015 - mae: 0.0220\n",
            "Epoch 78/100\n",
            "57/57 [==============================] - 1s 21ms/step - loss: 0.0013 - mse: 0.0013 - mae: 0.0208\n",
            "Epoch 79/100\n",
            "57/57 [==============================] - 1s 25ms/step - loss: 0.0015 - mse: 0.0015 - mae: 0.0217\n",
            "Epoch 80/100\n",
            "57/57 [==============================] - 1s 21ms/step - loss: 0.0014 - mse: 0.0014 - mae: 0.0210\n",
            "Epoch 81/100\n",
            "57/57 [==============================] - 1s 19ms/step - loss: 0.0015 - mse: 0.0015 - mae: 0.0216\n",
            "Epoch 82/100\n",
            "57/57 [==============================] - 1s 19ms/step - loss: 0.0014 - mse: 0.0014 - mae: 0.0208\n",
            "Epoch 83/100\n",
            "57/57 [==============================] - 1s 13ms/step - loss: 0.0014 - mse: 0.0014 - mae: 0.0216\n",
            "Epoch 84/100\n",
            "57/57 [==============================] - 1s 13ms/step - loss: 0.0014 - mse: 0.0014 - mae: 0.0212\n",
            "Epoch 85/100\n",
            "57/57 [==============================] - 1s 14ms/step - loss: 0.0015 - mse: 0.0015 - mae: 0.0212\n",
            "Epoch 86/100\n",
            "57/57 [==============================] - 1s 13ms/step - loss: 0.0014 - mse: 0.0014 - mae: 0.0215\n",
            "Epoch 87/100\n",
            "57/57 [==============================] - 1s 13ms/step - loss: 0.0014 - mse: 0.0014 - mae: 0.0213\n",
            "Epoch 88/100\n",
            "57/57 [==============================] - 1s 12ms/step - loss: 0.0017 - mse: 0.0017 - mae: 0.0225\n",
            "Epoch 89/100\n",
            "57/57 [==============================] - 1s 12ms/step - loss: 0.0015 - mse: 0.0015 - mae: 0.0220\n",
            "Epoch 90/100\n",
            "57/57 [==============================] - 1s 15ms/step - loss: 0.0015 - mse: 0.0015 - mae: 0.0218\n",
            "Epoch 91/100\n",
            "57/57 [==============================] - 1s 13ms/step - loss: 0.0014 - mse: 0.0014 - mae: 0.0206\n",
            "Epoch 92/100\n",
            "57/57 [==============================] - 1s 12ms/step - loss: 0.0015 - mse: 0.0015 - mae: 0.0219\n",
            "Epoch 93/100\n",
            "57/57 [==============================] - 1s 13ms/step - loss: 0.0014 - mse: 0.0014 - mae: 0.0216\n",
            "Epoch 94/100\n",
            "57/57 [==============================] - 1s 12ms/step - loss: 0.0014 - mse: 0.0014 - mae: 0.0216\n",
            "Epoch 95/100\n",
            "57/57 [==============================] - 1s 12ms/step - loss: 0.0014 - mse: 0.0014 - mae: 0.0212\n",
            "Epoch 96/100\n",
            "57/57 [==============================] - 1s 20ms/step - loss: 0.0015 - mse: 0.0015 - mae: 0.0215\n",
            "Epoch 97/100\n",
            "57/57 [==============================] - 1s 24ms/step - loss: 0.0014 - mse: 0.0014 - mae: 0.0213\n",
            "Epoch 98/100\n",
            "57/57 [==============================] - 1s 20ms/step - loss: 0.0017 - mse: 0.0017 - mae: 0.0224\n",
            "Epoch 99/100\n",
            "57/57 [==============================] - 1s 18ms/step - loss: 0.0014 - mse: 0.0014 - mae: 0.0218\n",
            "Epoch 100/100\n",
            "57/57 [==============================] - 1s 12ms/step - loss: 0.0015 - mse: 0.0015 - mae: 0.0215\n"
          ]
        }
      ]
    },
    {
      "cell_type": "code",
      "source": [
        "plt.plot(history_1.history['mse'], label='proposed')\n",
        "plt.plot(history_2.history['mse'], label='comparison')\n",
        "plt.legend()\n",
        "plt.xlabel('epochs')\n",
        "plt.title('MSE')\n",
        "plt.show()"
      ],
      "metadata": {
        "colab": {
          "base_uri": "https://localhost:8080/",
          "height": 472
        },
        "id": "MSoFTPX3xbK4",
        "outputId": "f4058537-cc92-4e58-83c4-877ed18d0ace"
      },
      "execution_count": 13,
      "outputs": [
        {
          "output_type": "display_data",
          "data": {
            "text/plain": [
              "<Figure size 640x480 with 1 Axes>"
            ],
            "image/png": "[encoded data removed]"
          },
          "metadata": {}
        }
      ]
    },
    {
      "cell_type": "code",
      "source": [
        "plt.plot(history_1.history['mae'], label='proposed')\n",
        "plt.plot(history_2.history['mae'], label='comparison')\n",
        "plt.legend()\n",
        "plt.xlabel('epochs')\n",
        "plt.title('MAE')\n",
        "plt.show()"
      ],
      "metadata": {
        "colab": {
          "base_uri": "https://localhost:8080/",
          "height": 472
        },
        "id": "AhOghz8fx-pL",
        "outputId": "b6cda05b-e1cd-49b0-ed08-522e7f1192ec"
      },
      "execution_count": 14,
      "outputs": [
        {
          "output_type": "display_data",
          "data": {
            "text/plain": [
              "<Figure size 640x480 with 1 Axes>"
            ],
            "image/png": "[encoded data removed]"
          },
          "metadata": {}
        }
      ]
    },
    {
      "cell_type": "code",
      "source": [
        "def predict(model, X_test, w):\n",
        "    yp = []\n",
        "    for i in range(w):\n",
        "        yp_tmp = model.predict(X_test, verbose=0)\n",
        "        yp.append(yp_tmp)\n",
        "        if i < w - 1:\n",
        "            X_test = np.concatenate([X_test[:, 1:], yp_tmp], axis=1)\n",
        "\n",
        "    return np.concatenate(yp, axis=1)"
      ],
      "metadata": {
        "id": "tMLxmFgMLpNi"
      },
      "execution_count": 15,
      "outputs": []
    },
    {
      "cell_type": "code",
      "source": [
        "def compute_metrics(y_test, w):\n",
        "\n",
        "    yp_proposed = predict(proposed_model, X_test, w)\n",
        "    yp_proposed = normalizer.denormalize(yp_proposed)\n",
        "\n",
        "    yp_comparison = predict(comparison_model, X_test, w)\n",
        "    yp_comparison = normalizer.denormalize(yp_comparison)\n",
        "\n",
        "    y = normalizer.denormalize(y_test)\n",
        "\n",
        "    mse_proposed = np.average((yp_proposed - y)**2)\n",
        "    mse_comparison = np.average((yp_comparison - y)**2)\n",
        "\n",
        "    rmse_proposed = np.sqrt(mse_proposed)\n",
        "    rmse_comparison = np.sqrt(mse_comparison)\n",
        "\n",
        "    mae_proposed = np.average(np.abs(yp_proposed - y))\n",
        "    mae_comparison = np.average(np.abs(yp_comparison - y))\n",
        "\n",
        "    mape_proposed = np.average(np.abs((yp_proposed - y) / y))\n",
        "    mape_comparison = np.average(np.abs((yp_comparison - y) / y))\n",
        "\n",
        "    print('model name\\tMSE\\t\\tRMSE\\t\\tMAE\\t\\tMAPE')\n",
        "    print(f'proposed\\t{mse_proposed:.2f}\\t\\t{rmse_proposed:.2f}\\t\\t{mae_proposed:.2f}\\t\\t{mape_proposed:.2f}')\n",
        "    print(f'comparison\\t{mse_comparison:.2f}\\t\\t{rmse_comparison:.2f}\\t\\t{mae_comparison:.2f}\\t\\t{mape_comparison:.2f}')"
      ],
      "metadata": {
        "id": "ZFNnw2jqlikM"
      },
      "execution_count": 16,
      "outputs": []
    },
    {
      "cell_type": "code",
      "source": [
        "compute_metrics(y_test_1d, 1)"
      ],
      "metadata": {
        "colab": {
          "base_uri": "https://localhost:8080/"
        },
        "id": "eOxVxNLnr74z",
        "outputId": "b1e5c59c-bb23-4072-a24f-086a5e7eecb1"
      },
      "execution_count": 17,
      "outputs": [
        {
          "output_type": "stream",
          "name": "stdout",
          "text": [
            "model name\tMSE\t\tRMSE\t\tMAE\t\tMAPE\n",
            "proposed\t72.62\t\t8.52\t\t5.04\t\t0.06\n",
            "comparison\t82.33\t\t9.07\t\t5.37\t\t0.06\n"
          ]
        }
      ]
    },
    {
      "cell_type": "code",
      "source": [
        "compute_metrics(y_test_3d, 3)"
      ],
      "metadata": {
        "colab": {
          "base_uri": "https://localhost:8080/"
        },
        "id": "e8w0TeTqV0a1",
        "outputId": "c4870931-3983-4c54-824d-d66f6e940df8"
      },
      "execution_count": 18,
      "outputs": [
        {
          "output_type": "stream",
          "name": "stdout",
          "text": [
            "model name\tMSE\t\tRMSE\t\tMAE\t\tMAPE\n",
            "proposed\t146.86\t\t12.12\t\t6.37\t\t0.07\n",
            "comparison\t144.43\t\t12.02\t\t6.43\t\t0.07\n"
          ]
        }
      ]
    },
    {
      "cell_type": "code",
      "source": [
        "compute_metrics(y_test_7d, 7)"
      ],
      "metadata": {
        "colab": {
          "base_uri": "https://localhost:8080/"
        },
        "id": "IsQ4Uf3vDTf2",
        "outputId": "865149c4-d993-4037-88b7-78028f060622"
      },
      "execution_count": 19,
      "outputs": [
        {
          "output_type": "stream",
          "name": "stdout",
          "text": [
            "model name\tMSE\t\tRMSE\t\tMAE\t\tMAPE\n",
            "proposed\t265.06\t\t16.28\t\t8.71\t\t0.09\n",
            "comparison\t256.08\t\t16.00\t\t8.68\t\t0.09\n"
          ]
        }
      ]
    }
  ]
}